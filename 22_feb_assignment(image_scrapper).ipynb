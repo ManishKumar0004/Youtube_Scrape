{
 "cells": [
  {
   "cell_type": "markdown",
   "metadata": {},
   "source": [
    "#   &emsp; &emsp; &emsp; &emsp; &emsp; &emsp; &emsp; &emsp; &emsp; &emsp; Assignment"
   ]
  },
  {
   "cell_type": "code",
   "execution_count": 61,
   "metadata": {},
   "outputs": [
    {
     "name": "stdout",
     "output_type": "stream",
     "text": [
      "Number of Video_titles found: 30\n",
      "Number of Video_views found: 30\n",
      "Number of Video_thumbnails found: 30\n",
      "Number of Video_links found: 30\n"
     ]
    }
   ],
   "source": [
    "import time\n",
    "from pprint import pprint \n",
    "from selenium import webdriver\n",
    "from selenium.webdriver.chrome.service import Service\n",
    "from webdriver_manager.chrome import ChromeDriverManager\n",
    "from selenium.webdriver.common.by import By\n",
    "\n",
    "def clean_title(title):\n",
    "    # Replace or remove problematic characters\n",
    "    return title.replace('\\U0001f4af', '')  # Replace with an empty string\n",
    "\n",
    "driver = webdriver.Chrome(service=Service(ChromeDriverManager().install()))\n",
    "driver.get(\"https://www.youtube.com/@PW-Foundation/videos\")\n",
    "\n",
    "channel_title = driver.find_element(By.XPATH, '//yt-formatted-string[contains(@class, \"ytd-channel-name\")]').text\n",
    "handle = driver.find_element(By.XPATH, '//yt-formatted-string[@id=\"channel-handle\"]').text\n",
    "subscriber_count = driver.find_element(By.XPATH, '//yt-formatted-string[@id=\"subscriber-count\"]').text\n",
    "\n",
    "# Add a delay to ensure page elements are loaded\n",
    "time.sleep(3)\n",
    "\n",
    "thumbnails_boxes = driver.find_elements(By.XPATH, '//a[@id=\"thumbnail\"]/yt-image/img')\n",
    "views_boxes = driver.find_elements(By.XPATH,'//div[@id=\"metadata-line\"]/span[1]')\n",
    "titles_boxes = driver.find_elements(By.ID, \"video-title\")\n",
    "links_boxes = driver.find_elements(By.ID, \"video-title-link\")\n",
    "\n",
    "print(\"Number of Video_titles found:\", len(titles_boxes))\n",
    "print(\"Number of Video_views found:\", len(views_boxes))\n",
    "print(\"Number of Video_thumbnails found:\", len(thumbnails_boxes))\n",
    "print(\"Number of Video_links found:\", len(links_boxes))\n"
   ]
  },
  {
   "cell_type": "markdown",
   "metadata": {},
   "source": [
    "### Question-1: Write a python program to extract the video URL of the first five videos ?\n",
    "### Ans :-"
   ]
  },
  {
   "cell_type": "code",
   "execution_count": 62,
   "metadata": {},
   "outputs": [
    {
     "name": "stdout",
     "output_type": "stream",
     "text": [
      "Video URLs of the first five videos:\n",
      "https://www.youtube.com/watch?v=kv96sQulwZc\n",
      "https://www.youtube.com/watch?v=dxD8krpKP-8\n",
      "https://www.youtube.com/watch?v=Z0xlPJtojLs\n",
      "https://www.youtube.com/watch?v=UO2QcKq-jv0\n",
      "https://www.youtube.com/watch?v=DEDdCk1gBRk\n"
     ]
    }
   ],
   "source": [
    "video_urls = [link.get_attribute('href') for link in links_boxes[:5]]\n",
    "\n",
    "print(\"Video URLs of the first five videos:\")\n",
    "for url in video_urls:\n",
    "    print(url)\n"
   ]
  },
  {
   "cell_type": "markdown",
   "metadata": {},
   "source": [
    "### Question-2: Write a python program to extract the URL of the video thumbnails of the first five videos ?\n",
    "### Ans :-"
   ]
  },
  {
   "cell_type": "code",
   "execution_count": 63,
   "metadata": {},
   "outputs": [
    {
     "name": "stdout",
     "output_type": "stream",
     "text": [
      "Thumbnail URLs of the first five videos:\n",
      "https://i.ytimg.com/vi/kv96sQulwZc/hqdefault.jpg?sqp=-oaymwEcCNACELwBSFXyq4qpAw4IARUAAIhCGAFwAcABBg==&rs=AOn4CLCjVzRklCazrAEmysgbvMRkQOH57w\n",
      "https://i.ytimg.com/vi/dxD8krpKP-8/hqdefault.jpg?sqp=-oaymwEcCNACELwBSFXyq4qpAw4IARUAAIhCGAFwAcABBg==&rs=AOn4CLAEDrNnLUUwfSkPv7NYgBbNrPOfDw\n",
      "https://i.ytimg.com/vi/Z0xlPJtojLs/hqdefault.jpg?sqp=-oaymwEcCNACELwBSFXyq4qpAw4IARUAAIhCGAFwAcABBg==&rs=AOn4CLCjJXumvCeZLpdVrg9dKcPw0cZz3Q\n",
      "None\n",
      "None\n"
     ]
    }
   ],
   "source": [
    "thumbnail_urls = [thumb.get_attribute('src') for thumb in thumbnails_boxes[:5]]\n",
    "\n",
    "print(\"Thumbnail URLs of the first five videos:\")\n",
    "for thumbnail in thumbnail_urls:\n",
    "    print(thumbnail)\n"
   ]
  },
  {
   "cell_type": "markdown",
   "metadata": {},
   "source": [
    "### Question-3 : Write a python program to extract the title of the first five videos ?\n",
    "### Ans :-"
   ]
  },
  {
   "cell_type": "code",
   "execution_count": 64,
   "metadata": {},
   "outputs": [
    {
     "name": "stdout",
     "output_type": "stream",
     "text": [
      "Titles of the first five videos:\n",
      "CARBON AND ITS COMPOUND in 140 Minutes | Science Chapter - 4 | Class 10th CBSE Board\n",
      "PROBABILITY in 60 minutes | Maths Chapter - 15 | Class 10th Boards\n",
      "STATISTICS in 60 minutes | Maths Chapter - 14 | Class 10th Boards\n",
      "The G.O.A.T of SST is Back !! WARRRIOR Class-10th Boards \n",
      "SURFACE AREAS AND VOLUMES in 60 minutes | Maths Chapter 13 | Class 10th Boards\n"
     ]
    }
   ],
   "source": [
    "titles = [clean_title(title.text) for title in titles_boxes[:5]]\n",
    "\n",
    "print(\"Titles of the first five videos:\")\n",
    "for title in titles :\n",
    "    print(title)\n"
   ]
  },
  {
   "cell_type": "markdown",
   "metadata": {},
   "source": [
    "### Question-4 : Write a python program to extract the number of views of the first five videos ?\n",
    "### Ans :-"
   ]
  },
  {
   "cell_type": "code",
   "execution_count": 65,
   "metadata": {},
   "outputs": [
    {
     "name": "stdout",
     "output_type": "stream",
     "text": [
      "Number of views of the first five videos:\n",
      "108K views\n",
      "13K views\n",
      "21K views\n",
      "38K views\n",
      "17K views\n"
     ]
    }
   ],
   "source": [
    "views = [view.text for view in views_boxes[:5]]\n",
    "\n",
    "print(\"Number of views of the first five videos:\")\n",
    "for view in views :\n",
    "    print(view)\n"
   ]
  },
  {
   "cell_type": "markdown",
   "metadata": {},
   "source": [
    "### Question-5 : Write a python program to extract the time of posting of the video for the first five videos ?\n",
    "### Ans :-"
   ]
  },
  {
   "cell_type": "code",
   "execution_count": 66,
   "metadata": {},
   "outputs": [
    {
     "name": "stdout",
     "output_type": "stream",
     "text": [
      "Posting times of the first five videos:\n",
      "8 days ago\n",
      "11 days ago\n",
      "12 days ago\n",
      "13 days ago\n",
      "2 weeks ago\n"
     ]
    }
   ],
   "source": [
    "from selenium.common.exceptions import NoSuchElementException\n",
    "# Extract posting times\n",
    "posting_times = []\n",
    "\n",
    "metadata_boxes = driver.find_elements(By.XPATH, '//div[@id=\"metadata-line\"]')\n",
    "\n",
    "for metadata in metadata_boxes[:5]:\n",
    "    try:\n",
    "        # Locate the posting time element within the metadata\n",
    "        posting_time_element = metadata.find_element(By.XPATH, './/span[@class=\"inline-metadata-item style-scope ytd-video-meta-block\"][contains(text(), \"ago\")]')\n",
    "        posting_times.append(posting_time_element.text)\n",
    "    except NoSuchElementException:\n",
    "        posting_times.append(\"Posting time not found\")\n",
    "\n",
    "# Print the posting times\n",
    "print(\"Posting times of the first five videos:\")\n",
    "for time in posting_times:\n",
    "    print(time)\n",
    "\n",
    "# Close the driver\n",
    "driver.quit()"
   ]
  },
  {
   "cell_type": "code",
   "execution_count": 67,
   "metadata": {},
   "outputs": [
    {
     "name": "stdout",
     "output_type": "stream",
     "text": [
      "Data saved to video_data.csv\n"
     ]
    }
   ],
   "source": [
    "import csv\n",
    "\n",
    "# Combine all data into a list of dictionaries\n",
    "video_data = []\n",
    "for title, view, thumb, link, post_time in zip(titles, views, thumbnail_urls, video_urls, posting_times):\n",
    "    video_dict = {'title': title, 'views': view, 'thumbnail': thumb, 'link': link, 'posting_time': post_time}\n",
    "    video_data.append(video_dict)\n",
    "\n",
    "# Save to CSV\n",
    "csv_file_path = 'video_data.csv'\n",
    "with open(csv_file_path, 'w', newline='', encoding='utf-8') as csv_file:\n",
    "    fieldnames = ['title', 'views', 'thumbnail', 'link', 'posting_time']\n",
    "    writer = csv.DictWriter(csv_file, fieldnames=fieldnames)\n",
    "    writer.writeheader()\n",
    "    writer.writerows(video_data)\n",
    "\n",
    "print(f\"Data saved to {csv_file_path}\")\n"
   ]
  }
 ],
 "metadata": {
  "kernelspec": {
   "display_name": "Python 3",
   "language": "python",
   "name": "python3"
  },
  "language_info": {
   "codemirror_mode": {
    "name": "ipython",
    "version": 3
   },
   "file_extension": ".py",
   "mimetype": "text/x-python",
   "name": "python",
   "nbconvert_exporter": "python",
   "pygments_lexer": "ipython3",
   "version": "3.10.10"
  }
 },
 "nbformat": 4,
 "nbformat_minor": 2
}
